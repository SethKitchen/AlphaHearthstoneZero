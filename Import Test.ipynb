{
 "cells": [
  {
   "cell_type": "code",
   "execution_count": 1,
   "metadata": {},
   "outputs": [
    {
     "name": "stdout",
     "output_type": "stream",
     "text": [
      "Requirement already satisfied: pythonnet in c:\\users\\arianagrande\\appdata\\local\\programs\\python\\python37\\lib\\site-packages (2.4.0)\n"
     ]
    },
    {
     "data": {
      "text/plain": [
       "<System.Reflection.RuntimeAssembly at 0x1bd5d414e88>"
      ]
     },
     "execution_count": 1,
     "metadata": {},
     "output_type": "execute_result"
    }
   ],
   "source": [
    "import os\n",
    "import sys\n",
    "!{sys.executable} -m pip install pythonnet\n",
    "import clr\n",
    "sys.path.append(str(os.getcwd())+\"\\\\SabberStonePythonPort\\\\bin\\\\Release\\\\\")\n",
    "clr.AddReference(\"SabberStonePythonPort\")"
   ]
  },
  {
   "cell_type": "code",
   "execution_count": 2,
   "metadata": {},
   "outputs": [],
   "source": [
    "from SabberStonePythonPortNS import SabberStonePythonPort\n",
    "game=SabberStonePythonPort()"
   ]
  },
  {
   "cell_type": "code",
   "execution_count": 3,
   "metadata": {},
   "outputs": [
    {
     "ename": "SerializationException",
     "evalue": "Type 'SabberStoneCore.Enchants.ControllerAuraEffects' in Assembly 'SabberStoneCore, Version=2.1.0.0, Culture=neutral, PublicKeyToken=null' is not marked as serializable.\n   at System.Runtime.Serialization.FormatterServices.InternalGetSerializableMembers(RuntimeType type)\r\n   at System.Collections.Concurrent.ConcurrentDictionary`2.GetOrAdd(TKey key, Func`2 valueFactory)\r\n   at System.Runtime.Serialization.FormatterServices.GetSerializableMembers(Type type, StreamingContext context)\r\n   at System.Runtime.Serialization.Formatters.Binary.WriteObjectInfo.InitMemberInfo()\r\n   at System.Runtime.Serialization.Formatters.Binary.WriteObjectInfo.InitSerialize(Object obj, ISurrogateSelector surrogateSelector, StreamingContext context, SerObjectInfoInit serObjectInfoInit, IFormatterConverter converter, ObjectWriter objectWriter, SerializationBinder binder)\r\n   at System.Runtime.Serialization.Formatters.Binary.ObjectWriter.Write(WriteObjectInfo objectInfo, NameInfo memberNameInfo, NameInfo typeNameInfo)\r\n   at System.Runtime.Serialization.Formatters.Binary.ObjectWriter.Serialize(Object graph, Header[] inHeaders, __BinaryWriter serWriter, Boolean fCheck)\r\n   at System.Runtime.Serialization.Formatters.Binary.BinaryFormatter.Serialize(Stream serializationStream, Object graph, Header[] headers, Boolean fCheck)\r\n   at SabberStonePythonPortNS.SabberStonePythonPort.ObjectToByteArray(Object obj) in D:\\git\\AlphaHearthstoneZero\\SabberStonePythonPort\\SabberStonePythonPort.cs:line 219\r\n   at SabberStonePythonPortNS.SabberStonePythonPort.Init() in D:\\git\\AlphaHearthstoneZero\\SabberStonePythonPort\\SabberStonePythonPort.cs:line 249",
     "output_type": "error",
     "traceback": [
      "\u001b[1;31m---------------------------------------------------------------------------\u001b[0m",
      "\u001b[1;31mSerializationException\u001b[0m                    Traceback (most recent call last)",
      "\u001b[1;32m<ipython-input-3-84167c49509a>\u001b[0m in \u001b[0;36m<module>\u001b[1;34m\u001b[0m\n\u001b[1;32m----> 1\u001b[1;33m \u001b[0mgame\u001b[0m\u001b[1;33m.\u001b[0m\u001b[0mInit\u001b[0m\u001b[1;33m(\u001b[0m\u001b[1;33m)\u001b[0m\u001b[1;33m\u001b[0m\u001b[1;33m\u001b[0m\u001b[0m\n\u001b[0m",
      "\u001b[1;31mSerializationException\u001b[0m: Type 'SabberStoneCore.Enchants.ControllerAuraEffects' in Assembly 'SabberStoneCore, Version=2.1.0.0, Culture=neutral, PublicKeyToken=null' is not marked as serializable.\n   at System.Runtime.Serialization.FormatterServices.InternalGetSerializableMembers(RuntimeType type)\r\n   at System.Collections.Concurrent.ConcurrentDictionary`2.GetOrAdd(TKey key, Func`2 valueFactory)\r\n   at System.Runtime.Serialization.FormatterServices.GetSerializableMembers(Type type, StreamingContext context)\r\n   at System.Runtime.Serialization.Formatters.Binary.WriteObjectInfo.InitMemberInfo()\r\n   at System.Runtime.Serialization.Formatters.Binary.WriteObjectInfo.InitSerialize(Object obj, ISurrogateSelector surrogateSelector, StreamingContext context, SerObjectInfoInit serObjectInfoInit, IFormatterConverter converter, ObjectWriter objectWriter, SerializationBinder binder)\r\n   at System.Runtime.Serialization.Formatters.Binary.ObjectWriter.Write(WriteObjectInfo objectInfo, NameInfo memberNameInfo, NameInfo typeNameInfo)\r\n   at System.Runtime.Serialization.Formatters.Binary.ObjectWriter.Serialize(Object graph, Header[] inHeaders, __BinaryWriter serWriter, Boolean fCheck)\r\n   at System.Runtime.Serialization.Formatters.Binary.BinaryFormatter.Serialize(Stream serializationStream, Object graph, Header[] headers, Boolean fCheck)\r\n   at SabberStonePythonPortNS.SabberStonePythonPort.ObjectToByteArray(Object obj) in D:\\git\\AlphaHearthstoneZero\\SabberStonePythonPort\\SabberStonePythonPort.cs:line 219\r\n   at SabberStonePythonPortNS.SabberStonePythonPort.Init() in D:\\git\\AlphaHearthstoneZero\\SabberStonePythonPort\\SabberStonePythonPort.cs:line 249"
     ]
    }
   ],
   "source": [
    "game.Init()"
   ]
  },
  {
   "cell_type": "code",
   "execution_count": null,
   "metadata": {},
   "outputs": [],
   "source": []
  }
 ],
 "metadata": {
  "kernelspec": {
   "display_name": "Python 3",
   "language": "python",
   "name": "python3"
  },
  "language_info": {
   "codemirror_mode": {
    "name": "ipython",
    "version": 3
   },
   "file_extension": ".py",
   "mimetype": "text/x-python",
   "name": "python",
   "nbconvert_exporter": "python",
   "pygments_lexer": "ipython3",
   "version": "3.7.4"
  }
 },
 "nbformat": 4,
 "nbformat_minor": 2
}
