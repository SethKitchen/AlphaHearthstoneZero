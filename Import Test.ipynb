{
 "cells": [
  {
   "cell_type": "code",
   "execution_count": 1,
   "metadata": {},
   "outputs": [
    {
     "data": {
      "text/plain": [
       "<System.Reflection.RuntimeAssembly at 0x233f8304948>"
      ]
     },
     "execution_count": 1,
     "metadata": {},
     "output_type": "execute_result"
    }
   ],
   "source": [
    "import clr\n",
    "import os\n",
    "import sys\n",
    "sys.path.append(str(os.getcwd())+\"\\\\SabberStonePythonPort\\\\bin\\\\Release\\\\\")\n",
    "clr.AddReference(\"SabberStonePythonPort\")\n",
    "\n"
   ]
  },
  {
   "cell_type": "code",
   "execution_count": 4,
   "metadata": {},
   "outputs": [],
   "source": [
    "from SabberStonePythonPortNS import SabberStonePythonPort\n",
    "game=SabberStonePythonPort()"
   ]
  },
  {
   "cell_type": "code",
   "execution_count": 5,
   "metadata": {},
   "outputs": [
    {
     "ename": "KeyNotFoundException",
     "evalue": "The given key was not present in the dictionary.\n   at System.ThrowHelper.ThrowKeyNotFoundException()\r\n   at System.Collections.Generic.Dictionary`2.get_Item(TKey key)\r\n   at SabberStonePythonPortNS.SabberStonePythonPort.GetRandomStandardDeckFromClass(CardClass heroClass) in C:\\Users\\Ariana Grande\\Downloads\\git\\AlphaHearthstoneZero\\SabberStonePythonPort\\SabberStonePythonPort.cs:line 135\r\n   at SabberStonePythonPortNS.SabberStonePythonPort.Init() in C:\\Users\\Ariana Grande\\Downloads\\git\\AlphaHearthstoneZero\\SabberStonePythonPort\\SabberStonePythonPort.cs:line 206",
     "output_type": "error",
     "traceback": [
      "\u001b[1;31m---------------------------------------------------------------------------\u001b[0m",
      "\u001b[1;31mKeyNotFoundException\u001b[0m                      Traceback (most recent call last)",
      "\u001b[1;32m<ipython-input-5-84167c49509a>\u001b[0m in \u001b[0;36m<module>\u001b[1;34m\u001b[0m\n\u001b[1;32m----> 1\u001b[1;33m \u001b[0mgame\u001b[0m\u001b[1;33m.\u001b[0m\u001b[0mInit\u001b[0m\u001b[1;33m(\u001b[0m\u001b[1;33m)\u001b[0m\u001b[1;33m\u001b[0m\u001b[1;33m\u001b[0m\u001b[0m\n\u001b[0m",
      "\u001b[1;31mKeyNotFoundException\u001b[0m: The given key was not present in the dictionary.\n   at System.ThrowHelper.ThrowKeyNotFoundException()\r\n   at System.Collections.Generic.Dictionary`2.get_Item(TKey key)\r\n   at SabberStonePythonPortNS.SabberStonePythonPort.GetRandomStandardDeckFromClass(CardClass heroClass) in C:\\Users\\Ariana Grande\\Downloads\\git\\AlphaHearthstoneZero\\SabberStonePythonPort\\SabberStonePythonPort.cs:line 135\r\n   at SabberStonePythonPortNS.SabberStonePythonPort.Init() in C:\\Users\\Ariana Grande\\Downloads\\git\\AlphaHearthstoneZero\\SabberStonePythonPort\\SabberStonePythonPort.cs:line 206"
     ]
    }
   ],
   "source": [
    "game.Init()"
   ]
  },
  {
   "cell_type": "code",
   "execution_count": null,
   "metadata": {},
   "outputs": [],
   "source": []
  }
 ],
 "metadata": {
  "kernelspec": {
   "display_name": "Python 3",
   "language": "python",
   "name": "python3"
  },
  "language_info": {
   "codemirror_mode": {
    "name": "ipython",
    "version": 3
   },
   "file_extension": ".py",
   "mimetype": "text/x-python",
   "name": "python",
   "nbconvert_exporter": "python",
   "pygments_lexer": "ipython3",
   "version": "3.7.5"
  }
 },
 "nbformat": 4,
 "nbformat_minor": 2
}
